{
  "cells": [
    {
      "cell_type": "markdown",
      "source": [
        "## **Name:** Affan Zulfiqar\n",
        "\n",
        "---\n",
        "\n",
        "## **Reg No:** B22F0144AI050\n",
        "---\n",
        "## **Course:** Artificial neural Networks Lab (3)"
      ],
      "metadata": {
        "id": "0Xd2Uk8wA3Kg"
      }
    },
    {
      "cell_type": "markdown",
      "source": [
        "# **Lab Task**\n",
        "1. Build a neural network model using different activation functions.\n",
        "2. Compare the performance of different activation functions (Sigmoid, Tanh, ReLU).\n",
        "3. Analyze the effect of activation functions on accuracy and training time"
      ],
      "metadata": {
        "id": "J_7Hn1QmA6EE"
      }
    },
    {
      "cell_type": "markdown",
      "source": [
        "# **Importing Libraries**"
      ],
      "metadata": {
        "id": "Du6eNByEAuqM"
      }
    },
    {
      "cell_type": "code",
      "source": [
        "import time\n",
        "import numpy as np\n",
        "import pandas as pd\n",
        "import matplotlib.pyplot as plt\n",
        "from sklearn.model_selection import train_test_split\n",
        "from sklearn.feature_extraction.text import TfidfVectorizer\n",
        "from sklearn.preprocessing import LabelEncoder\n",
        "from tensorflow.keras.models import Sequential\n",
        "from tensorflow.keras.layers import Dense\n",
        "from tensorflow.keras.optimizers import Adam\n",
        "from sklearn.metrics import accuracy_score"
      ],
      "outputs": [],
      "execution_count": 17,
      "metadata": {
        "id": "iShV2Hq-32UD"
      }
    },
    {
      "cell_type": "markdown",
      "source": [
        "# **Dataset Loading and Preprocessing**\n",
        "**Loading the Dataset**\n",
        "\n",
        "The dataset was loaded from a CSV file named spam.csv and print first 5 rows of the dataset."
      ],
      "metadata": {
        "id": "Za9nK2Bd8NLZ"
      }
    },
    {
      "cell_type": "code",
      "source": [
        "data = pd.read_csv('email.csv')\n",
        "print(data.head())"
      ],
      "outputs": [
        {
          "output_type": "stream",
          "name": "stdout",
          "text": "  Category                                            Message\n0      ham  Go until jurong point, crazy.. Available only ...\n1      ham                      Ok lar... Joking wif u oni...\n2     spam  Free entry in 2 a wkly comp to win FA Cup fina...\n3      ham  U dun say so early hor... U c already then say...\n4      ham  Nah I don't think he goes to usf, he lives aro...\n"
        }
      ],
      "execution_count": 27,
      "metadata": {
        "colab": {
          "base_uri": "https://localhost:8080/"
        },
        "id": "5InBTkME38rA",
        "outputId": "bfb49d65-774c-459e-a5fe-9ed30053e8dc"
      }
    },
    {
      "cell_type": "markdown",
      "source": [
        "**Encoding Labels**\n",
        "\n",
        "The categorical labels in the Category column (such as \"ham\" and \"spam\") were converted into numerical values using LabelEncoder. Here, \"ham\" is encoded as 0 and \"spam\" as 1."
      ],
      "metadata": {
        "id": "usA183UJ95A1"
      }
    },
    {
      "cell_type": "code",
      "source": [
        "label_encoder = LabelEncoder()\n",
        "data['Category'] = label_encoder.fit_transform(data['Category'])"
      ],
      "outputs": [],
      "execution_count": 19,
      "metadata": {
        "id": "KoDE34lJ4Beb"
      }
    },
    {
      "cell_type": "markdown",
      "source": [
        "**Text Vectorization**\n",
        "\n",
        "The text data in the Message column was converted into numerical features using TF-IDF vectorization. The max_features=5000 parameter limited the vectorization to the top 5000 features, and English stop words were removed."
      ],
      "metadata": {
        "id": "25J0SyLa-Gpx"
      }
    },
    {
      "cell_type": "code",
      "source": [
        "vectorizer = TfidfVectorizer(stop_words='english', max_features=5000)\n",
        "X = vectorizer.fit_transform(data['Message']).toarray()\n",
        "y = data['Category'].values"
      ],
      "outputs": [],
      "execution_count": 20,
      "metadata": {
        "id": "mSFjcwPC4HQF"
      }
    },
    {
      "cell_type": "markdown",
      "source": [
        "**Splitting the Data**\n",
        "\n",
        "The data was split into training and testing sets, with 80% used for training and 20% for testing."
      ],
      "metadata": {
        "id": "1a0U2HC2-XDr"
      }
    },
    {
      "cell_type": "code",
      "source": [
        "X_train, X_test, y_train, y_test = train_test_split(X, y, test_size=0.2, random_state=42)"
      ],
      "outputs": [],
      "execution_count": 21,
      "metadata": {
        "id": "wwlZE72Z-OQx"
      }
    },
    {
      "cell_type": "markdown",
      "source": [
        "# **Model Building**\n",
        "\n",
        "A function build_model was defined to build the neural network model using different activation functions. The model consists of:\n",
        "\n",
        "* An input layer with 16 neurons and a specified activation function.\n",
        "\n",
        "*  A hidden layer with 8 neurons and the same activation function.\n",
        "\n",
        "* An output layer with 1 neuron and a sigmoid activation function for\n",
        "binary classification."
      ],
      "metadata": {
        "id": "F0sjhHdl-h9h"
      }
    },
    {
      "cell_type": "code",
      "source": [
        "def build_model(activation):\n",
        "    model = Sequential([\n",
        "        Dense(16, activation=activation, input_shape=(X_train.shape[1],)),\n",
        "        Dense(8, activation=activation),\n",
        "        Dense(1, activation='sigmoid')\n",
        "    ])\n",
        "    model.compile(optimizer=Adam(learning_rate=0.01), loss='binary_crossentropy', metrics=['accuracy'])\n",
        "    return model"
      ],
      "outputs": [],
      "execution_count": 22,
      "metadata": {
        "id": "cfA7CJYB-TKa"
      }
    },
    {
      "cell_type": "markdown",
      "source": [
        "# **Training and Evaluation**\n",
        "\n",
        "The model was trained and evaluated using three activation functions: sigmoid, tanh, and relu. The training time and accuracy were recorded for each activation function."
      ],
      "metadata": {
        "id": "R33ZGmh6_QI-"
      }
    },
    {
      "cell_type": "code",
      "source": [
        "activation_functions = ['sigmoid', 'tanh', 'relu']\n",
        "results = {}\n",
        "\n",
        "for activation in activation_functions:\n",
        "    print(f'Training with {activation} activation...')\n",
        "    model = build_model(activation)\n",
        "    start_time = time.time()\n",
        "    history = model.fit(X_train, y_train, epochs=10, batch_size=32, verbose=0, validation_data=(X_test, y_test))\n",
        "    training_time = time.time() - start_time\n",
        "\n",
        "    y_pred = (model.predict(X_test) > 0.5).astype(int)\n",
        "    accuracy = accuracy_score(y_test, y_pred)\n",
        "\n",
        "    results[activation] = {'accuracy': accuracy, 'training_time': training_time, 'history': history}\n",
        "    print(f'{activation} - Accuracy: {accuracy:.4f}, Training Time: {training_time:.2f} sec\\n')"
      ],
      "outputs": [
        {
          "output_type": "stream",
          "name": "stdout",
          "text": "Training with sigmoid activation...\n"
        },
        {
          "output_type": "stream",
          "name": "stderr",
          "text": "/usr/local/lib/python3.11/dist-packages/keras/src/layers/core/dense.py:87: UserWarning: Do not pass an `input_shape`/`input_dim` argument to a layer. When using Sequential models, prefer using an `Input(shape)` object as the first layer in the model instead.\n  super().__init__(activity_regularizer=activity_regularizer, **kwargs)\n"
        },
        {
          "output_type": "stream",
          "name": "stdout",
          "text": "\u001b[1m35/35\u001b[0m \u001b[32m━━━━━━━━━━━━━━━━━━━━\u001b[0m\u001b[37m\u001b[0m \u001b[1m0s\u001b[0m 4ms/step\nsigmoid - Accuracy: 0.9910, Training Time: 9.31 sec\n\nTraining with tanh activation...\n"
        },
        {
          "output_type": "stream",
          "name": "stderr",
          "text": "/usr/local/lib/python3.11/dist-packages/keras/src/layers/core/dense.py:87: UserWarning: Do not pass an `input_shape`/`input_dim` argument to a layer. When using Sequential models, prefer using an `Input(shape)` object as the first layer in the model instead.\n  super().__init__(activity_regularizer=activity_regularizer, **kwargs)\n"
        },
        {
          "output_type": "stream",
          "name": "stdout",
          "text": "\u001b[1m35/35\u001b[0m \u001b[32m━━━━━━━━━━━━━━━━━━━━\u001b[0m\u001b[37m\u001b[0m \u001b[1m0s\u001b[0m 4ms/step\ntanh - Accuracy: 0.9883, Training Time: 7.49 sec\n\nTraining with relu activation...\n"
        },
        {
          "output_type": "stream",
          "name": "stderr",
          "text": "/usr/local/lib/python3.11/dist-packages/keras/src/layers/core/dense.py:87: UserWarning: Do not pass an `input_shape`/`input_dim` argument to a layer. When using Sequential models, prefer using an `Input(shape)` object as the first layer in the model instead.\n  super().__init__(activity_regularizer=activity_regularizer, **kwargs)\n"
        },
        {
          "output_type": "stream",
          "name": "stdout",
          "text": "\u001b[1m35/35\u001b[0m \u001b[32m━━━━━━━━━━━━━━━━━━━━\u001b[0m\u001b[37m\u001b[0m \u001b[1m0s\u001b[0m 3ms/step\nrelu - Accuracy: 0.9892, Training Time: 9.59 sec\n\n"
        }
      ],
      "execution_count": 23,
      "metadata": {
        "id": "5uIX3kyQ_ceZ",
        "outputId": "8ebab3d3-46ce-4950-f022-163533ae920d",
        "colab": {
          "base_uri": "https://localhost:8080/"
        }
      }
    },
    {
      "cell_type": "markdown",
      "source": [
        "# **Visualization**\n",
        "**1.** **Accuracy Comparison Graph**\n",
        "  \n",
        "  A graph was generated to compare the accuracy of the model across different activation functions over epochs.\n",
        "\n",
        "\n",
        "\n"
      ],
      "metadata": {
        "id": "vtgTHheP_rZp"
      }
    },
    {
      "cell_type": "code",
      "source": [
        "plt.figure(figsize=(8, 5))\n",
        "for activation in activation_functions:\n",
        "    plt.plot(results[activation]['history'].history['accuracy'], label=f'{activation} Accuracy')\n",
        "plt.xlabel('Epochs')\n",
        "plt.ylabel('Accuracy')\n",
        "plt.title('Activation Function Comparison - Accuracy')\n",
        "plt.legend()\n",
        "plt.show()"
      ],
      "outputs": [
        {
          "output_type": "display_data",
          "data": {
            "text/plain": "<Figure size 800x500 with 1 Axes>",
            "image/png": "[encoded data removed]"
          },
          "metadata": {}
        }
      ],
      "execution_count": 24,
      "metadata": {
        "id": "m3W0QuQgANj9",
        "outputId": "6ecaa8b4-3e5c-4c90-aa65-d25c0731e471",
        "colab": {
          "base_uri": "https://localhost:8080/",
          "height": 487
        }
      }
    },
    {
      "cell_type": "markdown",
      "source": [
        "**2. Training Time Comparison Bar Chart**\n",
        "\n",
        "A bar chart was generated to compare the training time of the model for different activation functions."
      ],
      "metadata": {
        "id": "Fs3CXbP-APZ7"
      }
    },
    {
      "cell_type": "code",
      "source": [
        "plt.figure(figsize=(6, 4))\n",
        "plt.bar(results.keys(), [results[a]['training_time'] for a in activation_functions], color=['blue', 'orange', 'green'])\n",
        "plt.xlabel('Activation Function')\n",
        "plt.ylabel('Training Time (seconds)')\n",
        "plt.title('Training Time Comparison')\n",
        "plt.show()"
      ],
      "outputs": [
        {
          "output_type": "display_data",
          "data": {
            "text/plain": "<Figure size 600x400 with 1 Axes>",
            "image/png": "[encoded data removed]"
          },
          "metadata": {}
        }
      ],
      "execution_count": 25,
      "metadata": {
        "colab": {
          "base_uri": "https://localhost:8080/",
          "height": 410
        },
        "id": "i-oekmPn3S3v",
        "outputId": "e3d282f9-da62-4e62-8d68-518aefdbabc3"
      }
    },
    {
      "cell_type": "markdown",
      "source": [
        "# **Final Results**\n",
        "The final results for each activation function were as follows:"
      ],
      "metadata": {
        "id": "Cd92A77gBU16"
      }
    },
    {
      "cell_type": "code",
      "source": [
        "for activation, metrics in results.items():\n",
        "    print(f\"{activation}: Accuracy = {metrics['accuracy']:.4f}, Training Time = {metrics['training_time']:.2f} sec\")"
      ],
      "outputs": [
        {
          "output_type": "stream",
          "name": "stdout",
          "text": "sigmoid: Accuracy = 0.9910, Training Time = 9.31 sec\ntanh: Accuracy = 0.9883, Training Time = 7.49 sec\nrelu: Accuracy = 0.9892, Training Time = 9.59 sec\n"
        }
      ],
      "execution_count": 26,
      "metadata": {
        "colab": {
          "base_uri": "https://localhost:8080/"
        },
        "id": "eBbc9h-u3Tay",
        "outputId": "d8ac7f86-ea28-4a35-a460-08b22f73f33b"
      }
    },
    {
      "cell_type": "markdown",
      "source": [
        "# **Conclusion:**\n",
        "**Accuracy Analysis**\n",
        "\n",
        "Sigmoid is the most effective activation function **(99.10%)** for this specific task in terms of accuracy. However, the differences in accuracy between the three activation functions are minimal, indicating that all three are suitable for this classification problem.\n",
        "\n",
        "**Training Time Analysis**\n",
        "\n",
        "Tanh is the most efficient activation function **(7.49 sec)** in terms of training time. If computational efficiency is a priority, Tanh is the best choice. However, the difference in training time between Tanh and Sigmoid/ReLU is not significant, so this factor may not be critical unless working with very large datasets or limited computational resources.\n",
        "\n",
        "**Final Recommendation**\n",
        "\n",
        "* High Accuracy: Sigmoid.\n",
        "\n",
        "* Fast Training: Tanh.\n",
        "\n",
        "* Balanced Performance: Tanh."
      ],
      "metadata": {
        "id": "-eECuNytD-o0"
      }
    }
  ],
  "metadata": {
    "colab": {
      "provenance": []
    },
    "kernelspec": {
      "name": "python",
      "language": "python",
      "display_name": "Pyolite (preview)"
    },
    "language_info": {
      "codemirror_mode": {
        "name": "python",
        "version": 3
      },
      "file_extension": ".py",
      "mimetype": "text/x-python",
      "name": "python",
      "nbconvert_exporter": "python",
      "pygments_lexer": "ipython3",
      "version": "3.8"
    },
    "kernel_info": {
      "name": "python"
    },
    "nteract": {
      "version": "nteract-front-end@1.0.0"
    }
  },
  "nbformat": 4,
  "nbformat_minor": 0
}