{
  "cells": [
    {
      "cell_type": "markdown",
      "source": [
        "## **Name:** Affan Zulfiqar\n",
        "## **Reg No:** B22F0144AI050\n",
        "## **Course** ANN LAB (01)"
      ],
      "metadata": {
        "id": "KF_Z328C3qZb"
      }
    },
    {
      "cell_type": "markdown",
      "source": [
        "# **Lab Task 1**\n",
        "**Scenario:**\n",
        "\n",
        "You are a data scientist working at a tech company that provides email\n",
        "filtering solutions to its users. Your team has been tasked with enhancing\n",
        "the spam detection system. You have access to a labeled email dataset\n",
        "containing spam and non-spam emails. Your goal is to preprocess this\n",
        "dataset, develop an SVM-based classification model, and fine-tune it for\n",
        "optimal performance. The final model will predict whether an incoming\n",
        "email is spam or not, based on its content.\n",
        "To achieve this, you will:\n",
        "1. Preprocess email content to extract meaningful numerical features.\n",
        "2. Train and evaluate the model using various SVM kernels (e.g.,\n",
        "linear, RBF, polynomial).\n",
        "3. Tune hyperparameters to maximize accuracy."
      ],
      "metadata": {
        "id": "g_WPIR0higWY"
      }
    },
    {
      "cell_type": "markdown",
      "source": [
        "Importing Libraries"
      ],
      "metadata": {
        "id": "kyERy4iY0syU"
      }
    },
    {
      "cell_type": "code",
      "source": [
        "import pandas as pd\n",
        "from sklearn.model_selection import train_test_split, GridSearchCV\n",
        "from sklearn.feature_extraction.text import TfidfVectorizer\n",
        "from sklearn.svm import SVC\n",
        "from sklearn.metrics import accuracy_score, classification_report, confusion_matrix\n",
        "import joblib\n"
      ],
      "outputs": [],
      "execution_count": null,
      "metadata": {
        "id": "t2rzrQGzx3V0"
      }
    },
    {
      "cell_type": "markdown",
      "source": [
        "Load and split dataset into features and labels"
      ],
      "metadata": {
        "id": "vGVbhJ9s1pS6"
      }
    },
    {
      "cell_type": "code",
      "source": [
        "emails_df = pd.read_csv('emails.csv')\n",
        "\n",
        "X = emails_df['text']\n",
        "y = emails_df['spam']\n",
        "print(emails_df.head())"
      ],
      "outputs": [
        {
          "output_type": "stream",
          "name": "stdout",
          "text": "                                                text  spam\n0  Subject: naturally irresistible your corporate...     1\n1  Subject: the stock trading gunslinger  fanny i...     1\n2  Subject: unbelievable new homes made easy  im ...     1\n3  Subject: 4 color printing special  request add...     1\n4  Subject: do not have money , get software cds ...     1\n"
        }
      ],
      "execution_count": null,
      "metadata": {
        "colab": {
          "base_uri": "https://localhost:8080/"
        },
        "id": "iJOXrXzO1g4I",
        "outputId": "912dc5ff-184c-4ade-eab7-2c70b902cd5c"
      }
    },
    {
      "cell_type": "markdown",
      "source": [
        "Split into training and testing sets"
      ],
      "metadata": {
        "id": "J1ieh5PO11pQ"
      }
    },
    {
      "cell_type": "code",
      "source": [
        "X_train, X_test, y_train, y_test = train_test_split(X, y, test_size=0.2, random_state=42)"
      ],
      "outputs": [],
      "execution_count": null,
      "metadata": {
        "id": "dNx3JugR1wi7"
      }
    },
    {
      "cell_type": "markdown",
      "source": [
        "Preprocess the text data"
      ],
      "metadata": {
        "id": "Vxpb8Oxg1-Sr"
      }
    },
    {
      "cell_type": "code",
      "source": [
        "vectorizer = TfidfVectorizer(max_features=5000, stop_words='english')\n",
        "X_train_tfidf = vectorizer.fit_transform(X_train)\n",
        "X_test_tfidf = vectorizer.transform(X_test)"
      ],
      "outputs": [],
      "execution_count": null,
      "metadata": {
        "id": "si_8mVqf15W4"
      }
    },
    {
      "cell_type": "markdown",
      "source": [
        "SVM Model"
      ],
      "metadata": {
        "id": "Clw4T3OS2HoR"
      }
    },
    {
      "cell_type": "code",
      "source": [
        "print(\"Training basic SVM model...\")\n",
        "basic_model = SVC(kernel='linear', C=1, random_state=42)\n",
        "basic_model.fit(X_train_tfidf, y_train)\n",
        "basic_y_pred = basic_model.predict(X_test_tfidf)"
      ],
      "outputs": [
        {
          "output_type": "stream",
          "name": "stdout",
          "text": "Training basic SVM model...\n"
        }
      ],
      "execution_count": null,
      "metadata": {
        "colab": {
          "base_uri": "https://localhost:8080/"
        },
        "id": "VyHP6qjo2Bun",
        "outputId": "b5a2ada2-5620-4a5c-cfdc-3009de074de0"
      }
    },
    {
      "cell_type": "markdown",
      "source": [
        "Evaluate the model"
      ],
      "metadata": {
        "id": "wGybLBI52RuV"
      }
    },
    {
      "cell_type": "code",
      "source": [
        "print(\"Basic SVM Model Evaluation:\")\n",
        "print(\"Accuracy:\", accuracy_score(y_test, basic_y_pred))\n",
        "print(\"Classification Report:\\n\", classification_report(y_test, basic_y_pred))\n",
        "print(\"Confusion Matrix:\\n\", confusion_matrix(y_test, basic_y_pred))"
      ],
      "outputs": [
        {
          "output_type": "stream",
          "name": "stdout",
          "text": "Basic SVM Model Evaluation:\nAccuracy: 0.9921465968586387\nClassification Report:\n               precision    recall  f1-score   support\n\n           0       0.99      1.00      0.99       856\n           1       0.99      0.98      0.98       290\n\n    accuracy                           0.99      1146\n   macro avg       0.99      0.99      0.99      1146\nweighted avg       0.99      0.99      0.99      1146\n\nConfusion Matrix:\n [[854   2]\n [  7 283]]\n"
        }
      ],
      "execution_count": null,
      "metadata": {
        "colab": {
          "base_uri": "https://localhost:8080/"
        },
        "id": "zkwVem3l2Jdl",
        "outputId": "2a8f481d-865a-4153-b2ee-bc28152d2d0b"
      }
    },
    {
      "cell_type": "markdown",
      "source": [
        "Saving Basic Model"
      ],
      "metadata": {
        "id": "--GQ85Oe2hPO"
      }
    },
    {
      "cell_type": "code",
      "source": [
        "joblib.dump(basic_model, 'svm_basic_model.pkl')\n",
        "print(\"Basic model saved as 'svm_basic_model.pkl'.\")"
      ],
      "outputs": [
        {
          "output_type": "stream",
          "name": "stdout",
          "text": "Basic model saved as 'svm_basic_model.pkl'.\n"
        }
      ],
      "execution_count": null,
      "metadata": {
        "colab": {
          "base_uri": "https://localhost:8080/"
        },
        "id": "zYf9OnN72XOh",
        "outputId": "fb64ea42-6149-4b46-fb1e-d228840c2fb3"
      }
    },
    {
      "cell_type": "markdown",
      "source": [
        "Hyperparameter tuning with GridSearchCV"
      ],
      "metadata": {
        "id": "sGZYEr3p2w2-"
      }
    },
    {
      "cell_type": "code",
      "source": [
        "param_grid = {\n",
        "    'C': [0.1, 1, 10],\n",
        "    'gamma': [1, 0.1, 0.01],\n",
        "    'kernel': ['linear', 'rbf', 'poly']\n",
        "}\n",
        "\n",
        "print(\"Starting hyperparameter tuning...\")\n",
        "grid = GridSearchCV(SVC(), param_grid, refit=True, cv=3, verbose=2)\n",
        "grid.fit(X_train_tfidf, y_train)"
      ],
      "outputs": [
        {
          "output_type": "stream",
          "name": "stdout",
          "text": "Starting hyperparameter tuning...\nFitting 3 folds for each of 27 candidates, totalling 81 fits\n[CV] END ......................C=0.1, gamma=1, kernel=linear; total time=   4.1s\n[CV] END ......................C=0.1, gamma=1, kernel=linear; total time=   5.0s\n[CV] END ......................C=0.1, gamma=1, kernel=linear; total time=   4.2s\n[CV] END .........................C=0.1, gamma=1, kernel=rbf; total time=   5.2s\n[CV] END .........................C=0.1, gamma=1, kernel=rbf; total time=   6.0s\n[CV] END .........................C=0.1, gamma=1, kernel=rbf; total time=   5.3s\n[CV] END ........................C=0.1, gamma=1, kernel=poly; total time=  11.4s\n[CV] END ........................C=0.1, gamma=1, kernel=poly; total time=   9.7s\n[CV] END ........................C=0.1, gamma=1, kernel=poly; total time=   9.8s\n[CV] END ....................C=0.1, gamma=0.1, kernel=linear; total time=   6.2s\n[CV] END ....................C=0.1, gamma=0.1, kernel=linear; total time=   4.1s\n[CV] END ....................C=0.1, gamma=0.1, kernel=linear; total time=   4.8s\n[CV] END .......................C=0.1, gamma=0.1, kernel=rbf; total time=   4.7s\n[CV] END .......................C=0.1, gamma=0.1, kernel=rbf; total time=   4.6s\n[CV] END .......................C=0.1, gamma=0.1, kernel=rbf; total time=   5.6s\n[CV] END ......................C=0.1, gamma=0.1, kernel=poly; total time=   4.3s\n[CV] END ......................C=0.1, gamma=0.1, kernel=poly; total time=   4.3s\n[CV] END ......................C=0.1, gamma=0.1, kernel=poly; total time=   5.2s\n[CV] END ...................C=0.1, gamma=0.01, kernel=linear; total time=   4.1s\n[CV] END ...................C=0.1, gamma=0.01, kernel=linear; total time=   4.1s\n[CV] END ...................C=0.1, gamma=0.01, kernel=linear; total time=   7.4s\n[CV] END ......................C=0.1, gamma=0.01, kernel=rbf; total time=   6.1s\n[CV] END ......................C=0.1, gamma=0.01, kernel=rbf; total time=   5.5s\n[CV] END ......................C=0.1, gamma=0.01, kernel=rbf; total time=   4.5s\n[CV] END .....................C=0.1, gamma=0.01, kernel=poly; total time=   4.3s\n[CV] END .....................C=0.1, gamma=0.01, kernel=poly; total time=   5.1s\n[CV] END .....................C=0.1, gamma=0.01, kernel=poly; total time=   4.3s\n[CV] END ........................C=1, gamma=1, kernel=linear; total time=   2.3s\n[CV] END ........................C=1, gamma=1, kernel=linear; total time=   2.4s\n[CV] END ........................C=1, gamma=1, kernel=linear; total time=   3.1s\n[CV] END ...........................C=1, gamma=1, kernel=rbf; total time=   4.3s\n[CV] END ...........................C=1, gamma=1, kernel=rbf; total time=   4.3s\n[CV] END ...........................C=1, gamma=1, kernel=rbf; total time=   5.1s\n[CV] END ..........................C=1, gamma=1, kernel=poly; total time=  10.0s\n[CV] END ..........................C=1, gamma=1, kernel=poly; total time=  10.2s\n[CV] END ..........................C=1, gamma=1, kernel=poly; total time=  10.9s\n[CV] END ......................C=1, gamma=0.1, kernel=linear; total time=   2.3s\n[CV] END ......................C=1, gamma=0.1, kernel=linear; total time=   2.3s\n[CV] END ......................C=1, gamma=0.1, kernel=linear; total time=   2.6s\n[CV] END .........................C=1, gamma=0.1, kernel=rbf; total time=   4.2s\n[CV] END .........................C=1, gamma=0.1, kernel=rbf; total time=   3.5s\n[CV] END .........................C=1, gamma=0.1, kernel=rbf; total time=   3.6s\n[CV] END ........................C=1, gamma=0.1, kernel=poly; total time=   5.6s\n[CV] END ........................C=1, gamma=0.1, kernel=poly; total time=   4.3s\n[CV] END ........................C=1, gamma=0.1, kernel=poly; total time=   4.4s\n[CV] END .....................C=1, gamma=0.01, kernel=linear; total time=   3.0s\n[CV] END .....................C=1, gamma=0.01, kernel=linear; total time=   2.6s\n[CV] END .....................C=1, gamma=0.01, kernel=linear; total time=   2.3s\n[CV] END ........................C=1, gamma=0.01, kernel=rbf; total time=   4.5s\n[CV] END ........................C=1, gamma=0.01, kernel=rbf; total time=   5.4s\n[CV] END ........................C=1, gamma=0.01, kernel=rbf; total time=   4.7s\n[CV] END .......................C=1, gamma=0.01, kernel=poly; total time=   4.3s\n[CV] END .......................C=1, gamma=0.01, kernel=poly; total time=   5.1s\n[CV] END .......................C=1, gamma=0.01, kernel=poly; total time=   4.3s\n[CV] END .......................C=10, gamma=1, kernel=linear; total time=   2.2s\n[CV] END .......................C=10, gamma=1, kernel=linear; total time=   2.2s\n[CV] END .......................C=10, gamma=1, kernel=linear; total time=   2.9s\n[CV] END ..........................C=10, gamma=1, kernel=rbf; total time=   4.5s\n[CV] END ..........................C=10, gamma=1, kernel=rbf; total time=   4.3s\n[CV] END ..........................C=10, gamma=1, kernel=rbf; total time=   5.0s\n[CV] END .........................C=10, gamma=1, kernel=poly; total time=  10.5s\n[CV] END .........................C=10, gamma=1, kernel=poly; total time=  10.5s\n[CV] END .........................C=10, gamma=1, kernel=poly; total time=  10.5s\n[CV] END .....................C=10, gamma=0.1, kernel=linear; total time=   2.2s\n[CV] END .....................C=10, gamma=0.1, kernel=linear; total time=   2.2s\n[CV] END .....................C=10, gamma=0.1, kernel=linear; total time=   2.3s\n[CV] END ........................C=10, gamma=0.1, kernel=rbf; total time=   3.2s\n[CV] END ........................C=10, gamma=0.1, kernel=rbf; total time=   2.4s\n[CV] END ........................C=10, gamma=0.1, kernel=rbf; total time=   2.4s\n[CV] END .......................C=10, gamma=0.1, kernel=poly; total time=   9.2s\n[CV] END .......................C=10, gamma=0.1, kernel=poly; total time=   8.5s\n[CV] END .......................C=10, gamma=0.1, kernel=poly; total time=   9.4s\n[CV] END ....................C=10, gamma=0.01, kernel=linear; total time=   2.2s\n[CV] END ....................C=10, gamma=0.01, kernel=linear; total time=   2.2s\n[CV] END ....................C=10, gamma=0.01, kernel=linear; total time=   2.6s\n[CV] END .......................C=10, gamma=0.01, kernel=rbf; total time=   3.7s\n[CV] END .......................C=10, gamma=0.01, kernel=rbf; total time=   3.3s\n[CV] END .......................C=10, gamma=0.01, kernel=rbf; total time=   3.4s\n[CV] END ......................C=10, gamma=0.01, kernel=poly; total time=   5.1s\n[CV] END ......................C=10, gamma=0.01, kernel=poly; total time=   4.2s\n[CV] END ......................C=10, gamma=0.01, kernel=poly; total time=   4.4s\n"
        },
        {
          "output_type": "execute_result",
          "execution_count": 8,
          "data": {
            "text/plain": "GridSearchCV(cv=3, estimator=SVC(),\n             param_grid={'C': [0.1, 1, 10], 'gamma': [1, 0.1, 0.01],\n                         'kernel': ['linear', 'rbf', 'poly']},\n             verbose=2)",
            "text/html": "<style>#sk-container-id-1 {\n  /* Definition of color scheme common for light and dark mode */\n  --sklearn-color-text: #000;\n  --sklearn-color-text-muted: #666;\n  --sklearn-color-line: gray;\n  /* Definition of color scheme for unfitted estimators */\n  --sklearn-color-unfitted-level-0: #fff5e6;\n  --sklearn-color-unfitted-level-1: #f6e4d2;\n  --sklearn-color-unfitted-level-2: #ffe0b3;\n  --sklearn-color-unfitted-level-3: chocolate;\n  /* Definition of color scheme for fitted estimators */\n  --sklearn-color-fitted-level-0: #f0f8ff;\n  --sklearn-color-fitted-level-1: #d4ebff;\n  --sklearn-color-fitted-level-2: #b3dbfd;\n  --sklearn-color-fitted-level-3: cornflowerblue;\n\n  /* Specific color for light theme */\n  --sklearn-color-text-on-default-background: var(--sg-text-color, var(--theme-code-foreground, var(--jp-content-font-color1, black)));\n  --sklearn-color-background: var(--sg-background-color, var(--theme-background, var(--jp-layout-color0, white)));\n  --sklearn-color-border-box: var(--sg-text-color, var(--theme-code-foreground, var(--jp-content-font-color1, black)));\n  --sklearn-color-icon: #696969;\n\n  @media (prefers-color-scheme: dark) {\n    /* Redefinition of color scheme for dark theme */\n    --sklearn-color-text-on-default-background: var(--sg-text-color, var(--theme-code-foreground, var(--jp-content-font-color1, white)));\n    --sklearn-color-background: var(--sg-background-color, var(--theme-background, var(--jp-layout-color0, #111)));\n    --sklearn-color-border-box: var(--sg-text-color, var(--theme-code-foreground, var(--jp-content-font-color1, white)));\n    --sklearn-color-icon: #878787;\n  }\n}\n\n#sk-container-id-1 {\n  color: var(--sklearn-color-text);\n}\n\n#sk-container-id-1 pre {\n  padding: 0;\n}\n\n#sk-container-id-1 input.sk-hidden--visually {\n  border: 0;\n  clip: rect(1px 1px 1px 1px);\n  clip: rect(1px, 1px, 1px, 1px);\n  height: 1px;\n  margin: -1px;\n  overflow: hidden;\n  padding: 0;\n  position: absolute;\n  width: 1px;\n}\n\n#sk-container-id-1 div.sk-dashed-wrapped {\n  border: 1px dashed var(--sklearn-color-line);\n  margin: 0 0.4em 0.5em 0.4em;\n  box-sizing: border-box;\n  padding-bottom: 0.4em;\n  background-color: var(--sklearn-color-background);\n}\n\n#sk-container-id-1 div.sk-container {\n  /* jupyter's `normalize.less` sets `[hidden] { display: none; }`\n     but bootstrap.min.css set `[hidden] { display: none !important; }`\n     so we also need the `!important` here to be able to override the\n     default hidden behavior on the sphinx rendered scikit-learn.org.\n     See: https://github.com/scikit-learn/scikit-learn/issues/21755 */\n  display: inline-block !important;\n  position: relative;\n}\n\n#sk-container-id-1 div.sk-text-repr-fallback {\n  display: none;\n}\n\ndiv.sk-parallel-item,\ndiv.sk-serial,\ndiv.sk-item {\n  /* draw centered vertical line to link estimators */\n  background-image: linear-gradient(var(--sklearn-color-text-on-default-background), var(--sklearn-color-text-on-default-background));\n  background-size: 2px 100%;\n  background-repeat: no-repeat;\n  background-position: center center;\n}\n\n/* Parallel-specific style estimator block */\n\n#sk-container-id-1 div.sk-parallel-item::after {\n  content: \"\";\n  width: 100%;\n  border-bottom: 2px solid var(--sklearn-color-text-on-default-background);\n  flex-grow: 1;\n}\n\n#sk-container-id-1 div.sk-parallel {\n  display: flex;\n  align-items: stretch;\n  justify-content: center;\n  background-color: var(--sklearn-color-background);\n  position: relative;\n}\n\n#sk-container-id-1 div.sk-parallel-item {\n  display: flex;\n  flex-direction: column;\n}\n\n#sk-container-id-1 div.sk-parallel-item:first-child::after {\n  align-self: flex-end;\n  width: 50%;\n}\n\n#sk-container-id-1 div.sk-parallel-item:last-child::after {\n  align-self: flex-start;\n  width: 50%;\n}\n\n#sk-container-id-1 div.sk-parallel-item:only-child::after {\n  width: 0;\n}\n\n/* Serial-specific style estimator block */\n\n#sk-container-id-1 div.sk-serial {\n  display: flex;\n  flex-direction: column;\n  align-items: center;\n  background-color: var(--sklearn-color-background);\n  padding-right: 1em;\n  padding-left: 1em;\n}\n\n\n/* Toggleable style: style used for estimator/Pipeline/ColumnTransformer box that is\nclickable and can be expanded/collapsed.\n- Pipeline and ColumnTransformer use this feature and define the default style\n- Estimators will overwrite some part of the style using the `sk-estimator` class\n*/\n\n/* Pipeline and ColumnTransformer style (default) */\n\n#sk-container-id-1 div.sk-toggleable {\n  /* Default theme specific background. It is overwritten whether we have a\n  specific estimator or a Pipeline/ColumnTransformer */\n  background-color: var(--sklearn-color-background);\n}\n\n/* Toggleable label */\n#sk-container-id-1 label.sk-toggleable__label {\n  cursor: pointer;\n  display: flex;\n  width: 100%;\n  margin-bottom: 0;\n  padding: 0.5em;\n  box-sizing: border-box;\n  text-align: center;\n  align-items: start;\n  justify-content: space-between;\n  gap: 0.5em;\n}\n\n#sk-container-id-1 label.sk-toggleable__label .caption {\n  font-size: 0.6rem;\n  font-weight: lighter;\n  color: var(--sklearn-color-text-muted);\n}\n\n#sk-container-id-1 label.sk-toggleable__label-arrow:before {\n  /* Arrow on the left of the label */\n  content: \"▸\";\n  float: left;\n  margin-right: 0.25em;\n  color: var(--sklearn-color-icon);\n}\n\n#sk-container-id-1 label.sk-toggleable__label-arrow:hover:before {\n  color: var(--sklearn-color-text);\n}\n\n/* Toggleable content - dropdown */\n\n#sk-container-id-1 div.sk-toggleable__content {\n  max-height: 0;\n  max-width: 0;\n  overflow: hidden;\n  text-align: left;\n  /* unfitted */\n  background-color: var(--sklearn-color-unfitted-level-0);\n}\n\n#sk-container-id-1 div.sk-toggleable__content.fitted {\n  /* fitted */\n  background-color: var(--sklearn-color-fitted-level-0);\n}\n\n#sk-container-id-1 div.sk-toggleable__content pre {\n  margin: 0.2em;\n  border-radius: 0.25em;\n  color: var(--sklearn-color-text);\n  /* unfitted */\n  background-color: var(--sklearn-color-unfitted-level-0);\n}\n\n#sk-container-id-1 div.sk-toggleable__content.fitted pre {\n  /* unfitted */\n  background-color: var(--sklearn-color-fitted-level-0);\n}\n\n#sk-container-id-1 input.sk-toggleable__control:checked~div.sk-toggleable__content {\n  /* Expand drop-down */\n  max-height: 200px;\n  max-width: 100%;\n  overflow: auto;\n}\n\n#sk-container-id-1 input.sk-toggleable__control:checked~label.sk-toggleable__label-arrow:before {\n  content: \"▾\";\n}\n\n/* Pipeline/ColumnTransformer-specific style */\n\n#sk-container-id-1 div.sk-label input.sk-toggleable__control:checked~label.sk-toggleable__label {\n  color: var(--sklearn-color-text);\n  background-color: var(--sklearn-color-unfitted-level-2);\n}\n\n#sk-container-id-1 div.sk-label.fitted input.sk-toggleable__control:checked~label.sk-toggleable__label {\n  background-color: var(--sklearn-color-fitted-level-2);\n}\n\n/* Estimator-specific style */\n\n/* Colorize estimator box */\n#sk-container-id-1 div.sk-estimator input.sk-toggleable__control:checked~label.sk-toggleable__label {\n  /* unfitted */\n  background-color: var(--sklearn-color-unfitted-level-2);\n}\n\n#sk-container-id-1 div.sk-estimator.fitted input.sk-toggleable__control:checked~label.sk-toggleable__label {\n  /* fitted */\n  background-color: var(--sklearn-color-fitted-level-2);\n}\n\n#sk-container-id-1 div.sk-label label.sk-toggleable__label,\n#sk-container-id-1 div.sk-label label {\n  /* The background is the default theme color */\n  color: var(--sklearn-color-text-on-default-background);\n}\n\n/* On hover, darken the color of the background */\n#sk-container-id-1 div.sk-label:hover label.sk-toggleable__label {\n  color: var(--sklearn-color-text);\n  background-color: var(--sklearn-color-unfitted-level-2);\n}\n\n/* Label box, darken color on hover, fitted */\n#sk-container-id-1 div.sk-label.fitted:hover label.sk-toggleable__label.fitted {\n  color: var(--sklearn-color-text);\n  background-color: var(--sklearn-color-fitted-level-2);\n}\n\n/* Estimator label */\n\n#sk-container-id-1 div.sk-label label {\n  font-family: monospace;\n  font-weight: bold;\n  display: inline-block;\n  line-height: 1.2em;\n}\n\n#sk-container-id-1 div.sk-label-container {\n  text-align: center;\n}\n\n/* Estimator-specific */\n#sk-container-id-1 div.sk-estimator {\n  font-family: monospace;\n  border: 1px dotted var(--sklearn-color-border-box);\n  border-radius: 0.25em;\n  box-sizing: border-box;\n  margin-bottom: 0.5em;\n  /* unfitted */\n  background-color: var(--sklearn-color-unfitted-level-0);\n}\n\n#sk-container-id-1 div.sk-estimator.fitted {\n  /* fitted */\n  background-color: var(--sklearn-color-fitted-level-0);\n}\n\n/* on hover */\n#sk-container-id-1 div.sk-estimator:hover {\n  /* unfitted */\n  background-color: var(--sklearn-color-unfitted-level-2);\n}\n\n#sk-container-id-1 div.sk-estimator.fitted:hover {\n  /* fitted */\n  background-color: var(--sklearn-color-fitted-level-2);\n}\n\n/* Specification for estimator info (e.g. \"i\" and \"?\") */\n\n/* Common style for \"i\" and \"?\" */\n\n.sk-estimator-doc-link,\na:link.sk-estimator-doc-link,\na:visited.sk-estimator-doc-link {\n  float: right;\n  font-size: smaller;\n  line-height: 1em;\n  font-family: monospace;\n  background-color: var(--sklearn-color-background);\n  border-radius: 1em;\n  height: 1em;\n  width: 1em;\n  text-decoration: none !important;\n  margin-left: 0.5em;\n  text-align: center;\n  /* unfitted */\n  border: var(--sklearn-color-unfitted-level-1) 1pt solid;\n  color: var(--sklearn-color-unfitted-level-1);\n}\n\n.sk-estimator-doc-link.fitted,\na:link.sk-estimator-doc-link.fitted,\na:visited.sk-estimator-doc-link.fitted {\n  /* fitted */\n  border: var(--sklearn-color-fitted-level-1) 1pt solid;\n  color: var(--sklearn-color-fitted-level-1);\n}\n\n/* On hover */\ndiv.sk-estimator:hover .sk-estimator-doc-link:hover,\n.sk-estimator-doc-link:hover,\ndiv.sk-label-container:hover .sk-estimator-doc-link:hover,\n.sk-estimator-doc-link:hover {\n  /* unfitted */\n  background-color: var(--sklearn-color-unfitted-level-3);\n  color: var(--sklearn-color-background);\n  text-decoration: none;\n}\n\ndiv.sk-estimator.fitted:hover .sk-estimator-doc-link.fitted:hover,\n.sk-estimator-doc-link.fitted:hover,\ndiv.sk-label-container:hover .sk-estimator-doc-link.fitted:hover,\n.sk-estimator-doc-link.fitted:hover {\n  /* fitted */\n  background-color: var(--sklearn-color-fitted-level-3);\n  color: var(--sklearn-color-background);\n  text-decoration: none;\n}\n\n/* Span, style for the box shown on hovering the info icon */\n.sk-estimator-doc-link span {\n  display: none;\n  z-index: 9999;\n  position: relative;\n  font-weight: normal;\n  right: .2ex;\n  padding: .5ex;\n  margin: .5ex;\n  width: min-content;\n  min-width: 20ex;\n  max-width: 50ex;\n  color: var(--sklearn-color-text);\n  box-shadow: 2pt 2pt 4pt #999;\n  /* unfitted */\n  background: var(--sklearn-color-unfitted-level-0);\n  border: .5pt solid var(--sklearn-color-unfitted-level-3);\n}\n\n.sk-estimator-doc-link.fitted span {\n  /* fitted */\n  background: var(--sklearn-color-fitted-level-0);\n  border: var(--sklearn-color-fitted-level-3);\n}\n\n.sk-estimator-doc-link:hover span {\n  display: block;\n}\n\n/* \"?\"-specific style due to the `<a>` HTML tag */\n\n#sk-container-id-1 a.estimator_doc_link {\n  float: right;\n  font-size: 1rem;\n  line-height: 1em;\n  font-family: monospace;\n  background-color: var(--sklearn-color-background);\n  border-radius: 1rem;\n  height: 1rem;\n  width: 1rem;\n  text-decoration: none;\n  /* unfitted */\n  color: var(--sklearn-color-unfitted-level-1);\n  border: var(--sklearn-color-unfitted-level-1) 1pt solid;\n}\n\n#sk-container-id-1 a.estimator_doc_link.fitted {\n  /* fitted */\n  border: var(--sklearn-color-fitted-level-1) 1pt solid;\n  color: var(--sklearn-color-fitted-level-1);\n}\n\n/* On hover */\n#sk-container-id-1 a.estimator_doc_link:hover {\n  /* unfitted */\n  background-color: var(--sklearn-color-unfitted-level-3);\n  color: var(--sklearn-color-background);\n  text-decoration: none;\n}\n\n#sk-container-id-1 a.estimator_doc_link.fitted:hover {\n  /* fitted */\n  background-color: var(--sklearn-color-fitted-level-3);\n}\n</style><div id=\"sk-container-id-1\" class=\"sk-top-container\"><div class=\"sk-text-repr-fallback\"><pre>GridSearchCV(cv=3, estimator=SVC(),\n             param_grid={&#x27;C&#x27;: [0.1, 1, 10], &#x27;gamma&#x27;: [1, 0.1, 0.01],\n                         &#x27;kernel&#x27;: [&#x27;linear&#x27;, &#x27;rbf&#x27;, &#x27;poly&#x27;]},\n             verbose=2)</pre><b>In a Jupyter environment, please rerun this cell to show the HTML representation or trust the notebook. <br />On GitHub, the HTML representation is unable to render, please try loading this page with nbviewer.org.</b></div><div class=\"sk-container\" hidden><div class=\"sk-item sk-dashed-wrapped\"><div class=\"sk-label-container\"><div class=\"sk-label fitted sk-toggleable\"><input class=\"sk-toggleable__control sk-hidden--visually\" id=\"sk-estimator-id-1\" type=\"checkbox\" ><label for=\"sk-estimator-id-1\" class=\"sk-toggleable__label fitted sk-toggleable__label-arrow\"><div><div>GridSearchCV</div></div><div><a class=\"sk-estimator-doc-link fitted\" rel=\"noreferrer\" target=\"_blank\" href=\"https://scikit-learn.org/1.6/modules/generated/sklearn.model_selection.GridSearchCV.html\">?<span>Documentation for GridSearchCV</span></a><span class=\"sk-estimator-doc-link fitted\">i<span>Fitted</span></span></div></label><div class=\"sk-toggleable__content fitted\"><pre>GridSearchCV(cv=3, estimator=SVC(),\n             param_grid={&#x27;C&#x27;: [0.1, 1, 10], &#x27;gamma&#x27;: [1, 0.1, 0.01],\n                         &#x27;kernel&#x27;: [&#x27;linear&#x27;, &#x27;rbf&#x27;, &#x27;poly&#x27;]},\n             verbose=2)</pre></div> </div></div><div class=\"sk-parallel\"><div class=\"sk-parallel-item\"><div class=\"sk-item\"><div class=\"sk-label-container\"><div class=\"sk-label fitted sk-toggleable\"><input class=\"sk-toggleable__control sk-hidden--visually\" id=\"sk-estimator-id-2\" type=\"checkbox\" ><label for=\"sk-estimator-id-2\" class=\"sk-toggleable__label fitted sk-toggleable__label-arrow\"><div><div>best_estimator_: SVC</div></div></label><div class=\"sk-toggleable__content fitted\"><pre>SVC(C=10, gamma=0.1)</pre></div> </div></div><div class=\"sk-serial\"><div class=\"sk-item\"><div class=\"sk-estimator fitted sk-toggleable\"><input class=\"sk-toggleable__control sk-hidden--visually\" id=\"sk-estimator-id-3\" type=\"checkbox\" ><label for=\"sk-estimator-id-3\" class=\"sk-toggleable__label fitted sk-toggleable__label-arrow\"><div><div>SVC</div></div><div><a class=\"sk-estimator-doc-link fitted\" rel=\"noreferrer\" target=\"_blank\" href=\"https://scikit-learn.org/1.6/modules/generated/sklearn.svm.SVC.html\">?<span>Documentation for SVC</span></a></div></label><div class=\"sk-toggleable__content fitted\"><pre>SVC(C=10, gamma=0.1)</pre></div> </div></div></div></div></div></div></div></div></div>"
          },
          "metadata": {}
        }
      ],
      "execution_count": null,
      "metadata": {
        "colab": {
          "base_uri": "https://localhost:8080/",
          "height": 1000
        },
        "id": "JGtm1cVz2mjM",
        "outputId": "4a5ac3f4-353a-42ae-fa21-f5b02daf0526"
      }
    },
    {
      "cell_type": "markdown",
      "source": [
        "Best model from grid search"
      ],
      "metadata": {
        "id": "LhuoiRp03Wzd"
      }
    },
    {
      "cell_type": "code",
      "source": [
        "best_model = grid.best_estimator_\n",
        "best_y_pred = best_model.predict(X_test_tfidf)"
      ],
      "outputs": [],
      "execution_count": null,
      "metadata": {
        "id": "9bfD7mFL2zRI"
      }
    },
    {
      "cell_type": "markdown",
      "source": [
        "Evaluate the tuned model"
      ],
      "metadata": {
        "id": "X9B3jhSe3aXe"
      }
    },
    {
      "cell_type": "code",
      "source": [
        "print(\"Tuned SVM Model Evaluation:\")\n",
        "print(\"Best Parameters:\", grid.best_params_)\n",
        "print(\"Accuracy:\", accuracy_score(y_test, best_y_pred))\n",
        "print(\"Classification Report:\\n\", classification_report(y_test, best_y_pred))\n",
        "print(\"Confusion Matrix:\\n\", confusion_matrix(y_test, best_y_pred))"
      ],
      "outputs": [
        {
          "output_type": "stream",
          "name": "stdout",
          "text": "Tuned SVM Model Evaluation:\nBest Parameters: {'C': 10, 'gamma': 0.1, 'kernel': 'rbf'}\nAccuracy: 0.9921465968586387\nClassification Report:\n               precision    recall  f1-score   support\n\n           0       0.99      1.00      0.99       856\n           1       0.99      0.98      0.98       290\n\n    accuracy                           0.99      1146\n   macro avg       0.99      0.99      0.99      1146\nweighted avg       0.99      0.99      0.99      1146\n\nConfusion Matrix:\n [[853   3]\n [  6 284]]\n"
        }
      ],
      "execution_count": null,
      "metadata": {
        "colab": {
          "base_uri": "https://localhost:8080/"
        },
        "id": "oxwGoShJ3EQ_",
        "outputId": "70cd7014-4dd9-4147-859e-a3b9dcb8a170"
      }
    },
    {
      "cell_type": "markdown",
      "source": [
        "Save the best model"
      ],
      "metadata": {
        "id": "lEy3XLJe3JWf"
      }
    },
    {
      "cell_type": "code",
      "source": [
        "joblib.dump(best_model, 'svm_best_model.pkl')\n",
        "print(\"Tuned model saved as 'svm_best_model.pkl'.\")"
      ],
      "outputs": [
        {
          "output_type": "stream",
          "name": "stdout",
          "text": "Tuned model saved as 'svm_best_model.pkl'.\n"
        }
      ],
      "execution_count": null,
      "metadata": {
        "colab": {
          "base_uri": "https://localhost:8080/"
        },
        "id": "rqb7ICFD3Gud",
        "outputId": "2c1a1729-109a-4c0b-e161-9a80214fcc9b"
      }
    },
    {
      "cell_type": "markdown",
      "source": [
        "Email Predictions:"
      ],
      "metadata": {
        "id": "jzk93Dhd3iWS"
      }
    },
    {
      "cell_type": "code",
      "source": [
        "emails_to_predict = [\n",
        "    \"Congratulations! You've won a free vacation. Click here to claim your prize!\",\n",
        "    \"Hey, just checking if we're still on for lunch tomorrow at 1 PM.\"\n",
        "]\n",
        "emails_tfidf = vectorizer.transform(emails_to_predict)\n",
        "predictions = best_model.predict(emails_tfidf)\n",
        "\n",
        "for email, prediction in zip(emails_to_predict, predictions):\n",
        "    print(f\"\\nEmail: {email}\")\n",
        "    print(\"Prediction:\", \"Spam\" if prediction == 1 else \"Not Spam\")"
      ],
      "outputs": [
        {
          "output_type": "stream",
          "name": "stdout",
          "text": "\nEmail: Congratulations! You've won a free vacation. Click here to claim your prize!\nPrediction: Spam\n\nEmail: Hey, just checking if we're still on for lunch tomorrow at 1 PM.\nPrediction: Not Spam\n"
        }
      ],
      "execution_count": null,
      "metadata": {
        "colab": {
          "base_uri": "https://localhost:8080/"
        },
        "id": "deOeoGlx3cwM",
        "outputId": "e0c76416-1f9f-4308-c701-dac74025ef55"
      }
    }
  ],
  "metadata": {
    "colab": {
      "provenance": []
    },
    "kernelspec": {
      "name": "python",
      "language": "python",
      "display_name": "Pyolite (preview)"
    },
    "language_info": {
      "codemirror_mode": {
        "name": "python",
        "version": 3
      },
      "file_extension": ".py",
      "mimetype": "text/x-python",
      "name": "python",
      "nbconvert_exporter": "python",
      "pygments_lexer": "ipython3",
      "version": "3.8"
    },
    "kernel_info": {
      "name": "python"
    },
    "nteract": {
      "version": "nteract-front-end@1.0.0"
    }
  },
  "nbformat": 4,
  "nbformat_minor": 0
}