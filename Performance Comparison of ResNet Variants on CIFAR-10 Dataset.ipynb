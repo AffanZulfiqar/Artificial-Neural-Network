{
  "cells": [
    {
      "cell_type": "markdown",
      "source": [
        "# **NAME : Affan Zulfiqar**\n",
        "---\n",
        "# **REG ID : B22F0144AI050**\n",
        "---\n",
        "# **Course : ANN Lab (09)**\n",
        "---\n",
        "# **Section : AI22F-Blue**"
      ],
      "metadata": {
        "id": "2i_RY2nD5lwT"
      }
    },
    {
      "cell_type": "markdown",
      "source": [
        "## **Task:**\n",
        "* Use dataset CIFAR-10: A dataset containing 60,000 images (10 classes: airplanes, cars, birds, cats, etc.).\n",
        "* Use different variations of ResNet Architecture.\n",
        "* Compare the perfomance of these architecture on same dataset."
      ],
      "metadata": {
        "id": "-AFrgvftCZ6Q"
      }
    },
    {
      "cell_type": "markdown",
      "source": [
        "**Import Libraries**"
      ],
      "metadata": {
        "id": "thAPYPoD6eqa"
      }
    },
    {
      "cell_type": "code",
      "source": [
        "import torch\n",
        "import torch.nn as nn\n",
        "import torch.optim as optim\n",
        "import torchvision\n",
        "import torchvision.transforms as transforms\n",
        "import time\n",
        "from torchvision import models"
      ],
      "metadata": {
        "id": "i0f0ITgY6LqI"
      },
      "execution_count": null,
      "outputs": []
    },
    {
      "cell_type": "markdown",
      "source": [
        "**Load Data**"
      ],
      "metadata": {
        "id": "RIDjUd71-Otq"
      }
    },
    {
      "cell_type": "markdown",
      "source": [
        "This function loads the CIFAR-10 dataset, applies data augmentation and normalization, and selects only 2000 samples for training and testing. It then creates data loaders to efficiently feed batches of images to the model during training and evaluation."
      ],
      "metadata": {
        "id": "ofZ6n0WQBUhx"
      }
    },
    {
      "cell_type": "code",
      "source": [
        "def get_dataloaders(batch_size=10):\n",
        "    transform = transforms.Compose([\n",
        "        transforms.RandomHorizontalFlip(),\n",
        "        transforms.RandomCrop(32, padding=4),\n",
        "        transforms.ToTensor(),\n",
        "        transforms.Normalize((0.5, 0.5, 0.5), (0.5, 0.5, 0.5))\n",
        "    ])\n",
        "\n",
        "    trainset = torchvision.datasets.CIFAR10(root='./data', train=True, download=True, transform=transform)\n",
        "    trainset.data = trainset.data[:2000]\n",
        "    trainset.targets = trainset.targets[:2000]\n",
        "    trainloader = torch.utils.data.DataLoader(trainset, batch_size=batch_size, shuffle=True, num_workers=2)\n",
        "\n",
        "    testset = torchvision.datasets.CIFAR10(root='./data', train=False, download=True, transform=transform)\n",
        "    testset.data = testset.data[:2000]\n",
        "    testset.targets = testset.targets[:2000]\n",
        "    testloader = torch.utils.data.DataLoader(testset, batch_size=batch_size, shuffle=False, num_workers=2)\n",
        "\n",
        "    return trainloader, testloader"
      ],
      "metadata": {
        "id": "tulzhRSJ-NfA"
      },
      "execution_count": null,
      "outputs": []
    },
    {
      "cell_type": "markdown",
      "source": [
        "**Train and evaluate Model**"
      ],
      "metadata": {
        "id": "5lnp60MF-aKi"
      }
    },
    {
      "cell_type": "markdown",
      "source": [
        "This function trains a given model using the training dataset, optimizing it with the Adam optimizer and cross-entropy loss. After training, it evaluates the model’s accuracy on the test dataset."
      ],
      "metadata": {
        "id": "aCl5Zn6uBewn"
      }
    },
    {
      "cell_type": "code",
      "execution_count": 1,
      "metadata": {
        "id": "v1MpMGNyhCe_",
        "colab": {
          "base_uri": "https://localhost:8080/"
        },
        "outputId": "b4d254f0-3b84-430f-daa8-f9af2e644842"
      },
      "outputs": [
        {
          "output_type": "stream",
          "name": "stderr",
          "text": [
            "100%|██████████| 170M/170M [00:03<00:00, 53.8MB/s]\n"
          ]
        }
      ],
      "source": [
        "def train_and_evaluate(model, trainloader, testloader, epochs=10, lr=0.001, device='cuda'):\n",
        "    criterion = nn.CrossEntropyLoss()\n",
        "    optimizer = optim.Adam(model.parameters(), lr=lr)\n",
        "    model.to(device)\n",
        "\n",
        "    # Training loop\n",
        "    for epoch in range(epochs):\n",
        "        model.train()\n",
        "        running_loss = 0.0\n",
        "        for inputs, labels in trainloader:\n",
        "            inputs, labels = inputs.to(device), labels.to(device)\n",
        "            optimizer.zero_grad()\n",
        "            outputs = model(inputs)\n",
        "            loss = criterion(outputs, labels)\n",
        "            loss.backward()\n",
        "            optimizer.step()\n",
        "            running_loss += loss.item()\n",
        "        print(f'Epoch {epoch+1}, Loss: {running_loss/len(trainloader):.4f}')\n",
        "\n",
        "    # Evaluation\n",
        "    model.eval()\n",
        "    correct, total = 0, 0\n",
        "    with torch.no_grad():\n",
        "        for inputs, labels in testloader:\n",
        "            inputs, labels = inputs.to(device), labels.to(device)\n",
        "            outputs = model(inputs)\n",
        "            _, predicted = torch.max(outputs, 1)\n",
        "            total += labels.size(0)\n",
        "            correct += (predicted == labels).sum().item()\n",
        "    accuracy = 100 * correct / total\n",
        "    print(f'Accuracy: {accuracy:.2f}%')\n",
        "    return accuracy\n",
        "\n",
        "# Load data\n",
        "trainloader, testloader = get_dataloaders()"
      ]
    },
    {
      "cell_type": "markdown",
      "source": [
        "**Models:**"
      ],
      "metadata": {
        "id": "GblOmz-i6Ybl"
      }
    },
    {
      "cell_type": "code",
      "source": [
        "# Define models\n",
        "resnet_variants = {\n",
        "    \"ResNet18\": models.resnet18,\n",
        "    \"ResNet34\": models.resnet34,\n",
        "    \"ResNet50\": models.resnet50\n",
        "}\n",
        "\n",
        "device = 'cuda' if torch.cuda.is_available() else 'cpu'"
      ],
      "metadata": {
        "id": "McNk86fu6XOy"
      },
      "execution_count": null,
      "outputs": []
    },
    {
      "cell_type": "markdown",
      "source": [
        "**Training and Evaluate each Model**"
      ],
      "metadata": {
        "id": "24PapdiV6p2S"
      }
    },
    {
      "cell_type": "markdown",
      "source": [
        "This code defines different ResNet architectures (ResNet18, ResNet34, ResNet50) for comparison. It also sets the computing device to GPU (cuda) if available; otherwise, it defaults to CPU."
      ],
      "metadata": {
        "id": "OSIL61jgBjZU"
      }
    },
    {
      "cell_type": "code",
      "source": [
        "results = {}\n",
        "for name, model_fn in resnet_variants.items():\n",
        "    print(f\"Training {name}...\")\n",
        "    model = model_fn(weights=None)\n",
        "    model.fc = nn.Linear(model.fc.in_features, 10)\n",
        "    start_time = time.time()\n",
        "    accuracy = train_and_evaluate(model, trainloader, testloader, epochs=10, device=device)\n",
        "    end_time = time.time()\n",
        "    results[name] = {'Accuracy': accuracy, 'Training Time': end_time - start_time}"
      ],
      "metadata": {
        "colab": {
          "base_uri": "https://localhost:8080/"
        },
        "id": "QggIBBssxfX2",
        "outputId": "c1d24b6f-5de4-41f1-d3f5-246796199b49"
      },
      "execution_count": 2,
      "outputs": [
        {
          "output_type": "stream",
          "name": "stdout",
          "text": [
            "Training ResNet18...\n",
            "Epoch 1, Loss: 2.2733\n",
            "Epoch 2, Loss: 2.0577\n",
            "Epoch 3, Loss: 2.0145\n",
            "Epoch 4, Loss: 1.9270\n",
            "Epoch 5, Loss: 1.8724\n",
            "Epoch 6, Loss: 1.8354\n",
            "Epoch 7, Loss: 1.8353\n",
            "Epoch 8, Loss: 1.7888\n",
            "Epoch 9, Loss: 1.7362\n",
            "Epoch 10, Loss: 1.7041\n",
            "Accuracy: 37.70%\n",
            "Training ResNet34...\n",
            "Epoch 1, Loss: 2.3972\n",
            "Epoch 2, Loss: 2.1613\n",
            "Epoch 3, Loss: 2.1977\n",
            "Epoch 4, Loss: 2.1138\n",
            "Epoch 5, Loss: 2.1412\n",
            "Epoch 6, Loss: 2.1747\n",
            "Epoch 7, Loss: 2.1874\n",
            "Epoch 8, Loss: 2.2292\n",
            "Epoch 9, Loss: 2.1786\n",
            "Epoch 10, Loss: 2.1358\n",
            "Accuracy: 19.75%\n",
            "Training ResNet50...\n",
            "Epoch 1, Loss: 2.9045\n",
            "Epoch 2, Loss: 2.8731\n",
            "Epoch 3, Loss: 2.6420\n",
            "Epoch 4, Loss: 2.4839\n",
            "Epoch 5, Loss: 2.5514\n",
            "Epoch 6, Loss: 2.5406\n",
            "Epoch 7, Loss: 2.3491\n",
            "Epoch 8, Loss: 2.3722\n",
            "Epoch 9, Loss: 2.2937\n",
            "Epoch 10, Loss: 2.2358\n",
            "Accuracy: 26.55%\n"
          ]
        }
      ]
    },
    {
      "cell_type": "markdown",
      "source": [
        "**Performance**"
      ],
      "metadata": {
        "id": "w8cf4ytv66PF"
      }
    },
    {
      "cell_type": "code",
      "source": [
        "print(\"\\nFinal Results:\")\n",
        "for name, result in results.items():\n",
        "    print(f\"{name}: Accuracy = {result['Accuracy']}%, Time = {result['Training Time']:.2f} sec\")"
      ],
      "metadata": {
        "colab": {
          "base_uri": "https://localhost:8080/"
        },
        "id": "4VcrKEqfxhJj",
        "outputId": "a7151d11-9b0e-40fe-e323-a8ed22aff78d"
      },
      "execution_count": 3,
      "outputs": [
        {
          "output_type": "stream",
          "name": "stdout",
          "text": [
            "\n",
            "Final Results:\n",
            "ResNet18: Accuracy = 37.7%, Time = 614.36 sec\n",
            "ResNet34: Accuracy = 19.75%, Time = 1169.14 sec\n",
            "ResNet50: Accuracy = 26.55%, Time = 1271.81 sec\n"
          ]
        }
      ]
    },
    {
      "cell_type": "markdown",
      "source": [
        "**Analysis:**\n",
        "\n",
        "ResNet18 performs the best (37.7%) among the three models, achieving the highest accuracy while also having the lowest training time (614.36 sec).\n",
        "\n",
        "ResNet34 performs the worst (19.75%) despite having more layers, suggesting overfitting or insufficient data for deeper networks.\n",
        "\n",
        "ResNet50 (26.55%) is better than ResNet34 but worse than ResNet18, showing that deeper architectures require more data to outperform shallower ones.\n",
        "\n",
        "Training time increases significantly with depth, with ResNet50 taking over twice the time of ResNet18, but without a significant accuracy improvement."
      ],
      "metadata": {
        "id": "Pp33hccFCK9P"
      }
    },
    {
      "cell_type": "markdown",
      "source": [
        "**Plot Accuracy Comparison**"
      ],
      "metadata": {
        "id": "WaLRIP7E9nT7"
      }
    },
    {
      "cell_type": "code",
      "source": [
        "import matplotlib.pyplot as plt\n",
        "\n",
        "plt.figure(figsize=(8, 5))\n",
        "names = list(results.keys())\n",
        "accuracies = [results[name]['Accuracy'] for name in names]\n",
        "plt.bar(names, accuracies, color=['blue', 'green', 'red'])\n",
        "plt.xlabel('ResNet Variants')\n",
        "plt.ylabel('Accuracy (%)')\n",
        "plt.title('ResNet Model Accuracy Comparison on CIFAR-10')\n",
        "plt.ylim(0, 100)\n",
        "plt.show()"
      ],
      "metadata": {
        "colab": {
          "base_uri": "https://localhost:8080/",
          "height": 487
        },
        "id": "_v4tmb9W9r_g",
        "outputId": "27eda18a-d940-4b36-8a69-920f2eb39e14"
      },
      "execution_count": 5,
      "outputs": [
        {
          "output_type": "display_data",
          "data": {
            "text/plain": [
              "<Figure size 800x500 with 1 Axes>"
            ],
            "image/png": "[encoded data removed]"
          },
          "metadata": {}
        }
      ]
    }
  ],
  "metadata": {
    "colab": {
      "provenance": []
    },
    "kernelspec": {
      "display_name": "Python 3",
      "name": "python3"
    },
    "language_info": {
      "name": "python"
    }
  },
  "nbformat": 4,
  "nbformat_minor": 0
}
